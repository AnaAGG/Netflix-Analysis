{
 "cells": [
  {
   "cell_type": "code",
   "execution_count": 1,
   "metadata": {},
   "outputs": [],
   "source": [
    "import pandas as pd\n",
    "import numpy as np\n",
    "import re\n",
    "import pickle\n",
    "\n",
    "import sys\n",
    "sys.path.append(\"../\")\n",
    "\n",
    "import src.support as sp\n",
    "\n",
    "import warnings\n",
    "warnings.filterwarnings('ignore')"
   ]
  },
  {
   "cell_type": "code",
   "execution_count": 2,
   "metadata": {},
   "outputs": [],
   "source": [
    "with open('../data/pickle/top10_actors.pickle', 'rb') as act:\n",
    "    actors = pickle.load(act)"
   ]
  },
  {
   "cell_type": "code",
   "execution_count": 6,
   "metadata": {},
   "outputs": [
    {
     "name": "stderr",
     "output_type": "stream",
     "text": [
      "\n",
      "\n",
      "====== WebDriver manager ======\n",
      "Current google-chrome version is 103.0.5060\n",
      "Get LATEST chromedriver version for 103.0.5060 google-chrome\n",
      "Trying to download new driver from https://chromedriver.storage.googleapis.com/103.0.5060.53/chromedriver_win32.zip\n",
      "Driver has been saved in cache [C:\\Users\\agarc\\.wdm\\drivers\\chromedriver\\win32\\103.0.5060.53]\n",
      "\n",
      "\n",
      "====== WebDriver manager ======\n",
      "Current google-chrome version is 103.0.5060\n",
      "Get LATEST chromedriver version for 103.0.5060 google-chrome\n",
      "Trying to download new driver from https://chromedriver.storage.googleapis.com/103.0.5060.53/chromedriver_win32.zip\n",
      "Driver has been saved in cache [C:\\Users\\agarc\\.wdm\\drivers\\chromedriver\\win32\\103.0.5060.53]\n",
      "\n",
      "\n",
      "====== WebDriver manager ======\n",
      "Current google-chrome version is 103.0.5060\n",
      "Get LATEST chromedriver version for 103.0.5060 google-chrome\n",
      "Trying to download new driver from https://chromedriver.storage.googleapis.com/103.0.5060.53/chromedriver_win32.zip\n",
      "Driver has been saved in cache [C:\\Users\\agarc\\.wdm\\drivers\\chromedriver\\win32\\103.0.5060.53]\n",
      "\n",
      "\n",
      "====== WebDriver manager ======\n",
      "Current google-chrome version is 103.0.5060\n",
      "Get LATEST chromedriver version for 103.0.5060 google-chrome\n",
      "Trying to download new driver from https://chromedriver.storage.googleapis.com/103.0.5060.53/chromedriver_win32.zip\n",
      "Driver has been saved in cache [C:\\Users\\agarc\\.wdm\\drivers\\chromedriver\\win32\\103.0.5060.53]\n",
      "\n",
      "\n",
      "====== WebDriver manager ======\n",
      "Current google-chrome version is 103.0.5060\n",
      "Get LATEST chromedriver version for 103.0.5060 google-chrome\n",
      "Trying to download new driver from https://chromedriver.storage.googleapis.com/103.0.5060.53/chromedriver_win32.zip\n",
      "Driver has been saved in cache [C:\\Users\\agarc\\.wdm\\drivers\\chromedriver\\win32\\103.0.5060.53]\n",
      "\n",
      "\n",
      "====== WebDriver manager ======\n",
      "Current google-chrome version is 103.0.5060\n",
      "Get LATEST chromedriver version for 103.0.5060 google-chrome\n",
      "Trying to download new driver from https://chromedriver.storage.googleapis.com/103.0.5060.53/chromedriver_win32.zip\n",
      "Driver has been saved in cache [C:\\Users\\agarc\\.wdm\\drivers\\chromedriver\\win32\\103.0.5060.53]\n",
      "\n",
      "\n",
      "====== WebDriver manager ======\n",
      "Current google-chrome version is 103.0.5060\n",
      "Get LATEST chromedriver version for 103.0.5060 google-chrome\n",
      "Trying to download new driver from https://chromedriver.storage.googleapis.com/103.0.5060.53/chromedriver_win32.zip\n",
      "Driver has been saved in cache [C:\\Users\\agarc\\.wdm\\drivers\\chromedriver\\win32\\103.0.5060.53]\n",
      "\n",
      "\n",
      "====== WebDriver manager ======\n",
      "Current google-chrome version is 103.0.5060\n",
      "Get LATEST chromedriver version for 103.0.5060 google-chrome\n",
      "Trying to download new driver from https://chromedriver.storage.googleapis.com/103.0.5060.53/chromedriver_win32.zip\n",
      "Driver has been saved in cache [C:\\Users\\agarc\\.wdm\\drivers\\chromedriver\\win32\\103.0.5060.53]\n",
      "\n",
      "\n",
      "====== WebDriver manager ======\n",
      "Current google-chrome version is 103.0.5060\n",
      "Get LATEST chromedriver version for 103.0.5060 google-chrome\n",
      "Trying to download new driver from https://chromedriver.storage.googleapis.com/103.0.5060.53/chromedriver_win32.zip\n",
      "Driver has been saved in cache [C:\\Users\\agarc\\.wdm\\drivers\\chromedriver\\win32\\103.0.5060.53]\n",
      "\n",
      "\n",
      "====== WebDriver manager ======\n",
      "Current google-chrome version is 103.0.5060\n",
      "Get LATEST chromedriver version for 103.0.5060 google-chrome\n",
      "Trying to download new driver from https://chromedriver.storage.googleapis.com/103.0.5060.53/chromedriver_win32.zip\n",
      "Driver has been saved in cache [C:\\Users\\agarc\\.wdm\\drivers\\chromedriver\\win32\\103.0.5060.53]\n"
     ]
    }
   ],
   "source": [
    "actors_df = sp.scrap_actors(actors)"
   ]
  },
  {
   "cell_type": "code",
   "execution_count": 7,
   "metadata": {},
   "outputs": [
    {
     "data": {
      "text/html": [
       "<div>\n",
       "<style scoped>\n",
       "    .dataframe tbody tr th:only-of-type {\n",
       "        vertical-align: middle;\n",
       "    }\n",
       "\n",
       "    .dataframe tbody tr th {\n",
       "        vertical-align: top;\n",
       "    }\n",
       "\n",
       "    .dataframe thead th {\n",
       "        text-align: right;\n",
       "    }\n",
       "</style>\n",
       "<table border=\"1\" class=\"dataframe\">\n",
       "  <thead>\n",
       "    <tr style=\"text-align: right;\">\n",
       "      <th></th>\n",
       "      <th>name</th>\n",
       "      <th>image</th>\n",
       "      <th>description</th>\n",
       "      <th>positions</th>\n",
       "      <th>known_for</th>\n",
       "    </tr>\n",
       "  </thead>\n",
       "  <tbody>\n",
       "    <tr>\n",
       "      <th>0</th>\n",
       "      <td>Adam Sandler</td>\n",
       "      <td>https://m.media-amazon.com/images/M/MV5BMjQyNz...</td>\n",
       "      <td>Adam Richard Sandler was born September 9, 196...</td>\n",
       "      <td>Actor | Producer | Writer</td>\n",
       "      <td>El aguador\\nBobby Boucher</td>\n",
       "    </tr>\n",
       "    <tr>\n",
       "      <th>1</th>\n",
       "      <td>Maya Rudolph</td>\n",
       "      <td>https://m.media-amazon.com/images/M/MV5BMTMzOT...</td>\n",
       "      <td>Maya Rudolph was born on July 27, 1972 in Gain...</td>\n",
       "      <td>Actress | Producer | Writer</td>\n",
       "      <td>La boda de mi mejor amiga\\nLillian</td>\n",
       "    </tr>\n",
       "    <tr>\n",
       "      <th>2</th>\n",
       "      <td>Andrew Bachelor</td>\n",
       "      <td>https://m.media-amazon.com/images/M/MV5BOTUyMT...</td>\n",
       "      <td>Over the last few years, Andrew Bachelor, bett...</td>\n",
       "      <td>Actor | Director | Writer</td>\n",
       "      <td>La primera vez que nos vimos\\nMax</td>\n",
       "    </tr>\n",
       "    <tr>\n",
       "      <th>3</th>\n",
       "      <td>Jacki Weaver</td>\n",
       "      <td>https://m.media-amazon.com/images/M/MV5BNDYyOT...</td>\n",
       "      <td>Jacki Weaver was born on May 25, 1947 in Sydne...</td>\n",
       "      <td>Actress | Soundtrack</td>\n",
       "      <td>El lado bueno de las cosas\\nDolores Solitano</td>\n",
       "    </tr>\n",
       "    <tr>\n",
       "      <th>4</th>\n",
       "      <td>Zachary Quinto</td>\n",
       "      <td>https://m.media-amazon.com/images/M/MV5BMjQ4ND...</td>\n",
       "      <td>Zachary Quinto was born in Pittsburgh, Pennsyl...</td>\n",
       "      <td>Actor | Producer | Writer</td>\n",
       "      <td>Star Trek\\nSpock</td>\n",
       "    </tr>\n",
       "  </tbody>\n",
       "</table>\n",
       "</div>"
      ],
      "text/plain": [
       "               name                                              image  \\\n",
       "0      Adam Sandler  https://m.media-amazon.com/images/M/MV5BMjQyNz...   \n",
       "1      Maya Rudolph  https://m.media-amazon.com/images/M/MV5BMTMzOT...   \n",
       "2   Andrew Bachelor  https://m.media-amazon.com/images/M/MV5BOTUyMT...   \n",
       "3      Jacki Weaver  https://m.media-amazon.com/images/M/MV5BNDYyOT...   \n",
       "4    Zachary Quinto  https://m.media-amazon.com/images/M/MV5BMjQ4ND...   \n",
       "\n",
       "                                         description  \\\n",
       "0  Adam Richard Sandler was born September 9, 196...   \n",
       "1  Maya Rudolph was born on July 27, 1972 in Gain...   \n",
       "2  Over the last few years, Andrew Bachelor, bett...   \n",
       "3  Jacki Weaver was born on May 25, 1947 in Sydne...   \n",
       "4  Zachary Quinto was born in Pittsburgh, Pennsyl...   \n",
       "\n",
       "                     positions                                     known_for  \n",
       "0    Actor | Producer | Writer                     El aguador\\nBobby Boucher  \n",
       "1  Actress | Producer | Writer            La boda de mi mejor amiga\\nLillian  \n",
       "2    Actor | Director | Writer             La primera vez que nos vimos\\nMax  \n",
       "3         Actress | Soundtrack  El lado bueno de las cosas\\nDolores Solitano  \n",
       "4    Actor | Producer | Writer                              Star Trek\\nSpock  "
      ]
     },
     "execution_count": 7,
     "metadata": {},
     "output_type": "execute_result"
    }
   ],
   "source": [
    "actors.head()"
   ]
  },
  {
   "cell_type": "code",
   "execution_count": 8,
   "metadata": {},
   "outputs": [],
   "source": [
    "actors[\"known_for\"] = actors[\"known_for\"].str.split(\"\\n\")"
   ]
  },
  {
   "cell_type": "code",
   "execution_count": 9,
   "metadata": {},
   "outputs": [],
   "source": [
    "actors = actors.explode(\"known_for\")"
   ]
  },
  {
   "cell_type": "code",
   "execution_count": 10,
   "metadata": {},
   "outputs": [],
   "source": [
    "actors[\"description\"] = actors[\"description\"].str.replace(\",\", \"\")"
   ]
  },
  {
   "cell_type": "code",
   "execution_count": 11,
   "metadata": {},
   "outputs": [],
   "source": [
    "actors.to_csv(\"../data/top_ten_actors.csv\")\n"
   ]
  },
  {
   "cell_type": "markdown",
   "metadata": {},
   "source": [
    "# Directors"
   ]
  },
  {
   "cell_type": "code",
   "execution_count": 2,
   "metadata": {},
   "outputs": [],
   "source": [
    "with open('../data/pickle/top10_directors.pickle', 'rb') as dir:\n",
    "    directors = pickle.load(dir)"
   ]
  },
  {
   "cell_type": "code",
   "execution_count": 3,
   "metadata": {},
   "outputs": [
    {
     "name": "stderr",
     "output_type": "stream",
     "text": [
      "\n",
      "\n",
      "====== WebDriver manager ======\n",
      "Current google-chrome version is 103.0.5060\n",
      "Get LATEST chromedriver version for 103.0.5060 google-chrome\n",
      "Trying to download new driver from https://chromedriver.storage.googleapis.com/103.0.5060.53/chromedriver_win32.zip\n",
      "Driver has been saved in cache [C:\\Users\\agarc\\.wdm\\drivers\\chromedriver\\win32\\103.0.5060.53]\n",
      "\n",
      "\n",
      "====== WebDriver manager ======\n",
      "Current google-chrome version is 103.0.5060\n",
      "Get LATEST chromedriver version for 103.0.5060 google-chrome\n",
      "Trying to download new driver from https://chromedriver.storage.googleapis.com/103.0.5060.53/chromedriver_win32.zip\n",
      "Driver has been saved in cache [C:\\Users\\agarc\\.wdm\\drivers\\chromedriver\\win32\\103.0.5060.53]\n"
     ]
    }
   ],
   "source": [
    "directors_df  = sp.scrap_directors(directors)"
   ]
  },
  {
   "cell_type": "code",
   "execution_count": 4,
   "metadata": {},
   "outputs": [
    {
     "data": {
      "text/html": [
       "<div>\n",
       "<style scoped>\n",
       "    .dataframe tbody tr th:only-of-type {\n",
       "        vertical-align: middle;\n",
       "    }\n",
       "\n",
       "    .dataframe tbody tr th {\n",
       "        vertical-align: top;\n",
       "    }\n",
       "\n",
       "    .dataframe thead th {\n",
       "        text-align: right;\n",
       "    }\n",
       "</style>\n",
       "<table border=\"1\" class=\"dataframe\">\n",
       "  <thead>\n",
       "    <tr style=\"text-align: right;\">\n",
       "      <th></th>\n",
       "      <th>name</th>\n",
       "      <th>image</th>\n",
       "      <th>description</th>\n",
       "      <th>positions</th>\n",
       "    </tr>\n",
       "  </thead>\n",
       "  <tbody>\n",
       "    <tr>\n",
       "      <th>0</th>\n",
       "      <td>McG</td>\n",
       "      <td>https://m.media-amazon.com/images/S/sash/FjpOu...</td>\n",
       "      <td>No description for McG</td>\n",
       "      <td>Producer | Additional Crew | Director</td>\n",
       "    </tr>\n",
       "    <tr>\n",
       "      <th>1</th>\n",
       "      <td>John Schultz</td>\n",
       "      <td>https://m.media-amazon.com/images/M/MV5BMTY5MD...</td>\n",
       "      <td>No description for John Schultz</td>\n",
       "      <td>Director | Writer | Producer</td>\n",
       "    </tr>\n",
       "  </tbody>\n",
       "</table>\n",
       "</div>"
      ],
      "text/plain": [
       "           name                                              image  \\\n",
       "0           McG  https://m.media-amazon.com/images/S/sash/FjpOu...   \n",
       "1  John Schultz  https://m.media-amazon.com/images/M/MV5BMTY5MD...   \n",
       "\n",
       "                       description                              positions  \n",
       "0           No description for McG  Producer | Additional Crew | Director  \n",
       "1  No description for John Schultz           Director | Writer | Producer  "
      ]
     },
     "execution_count": 4,
     "metadata": {},
     "output_type": "execute_result"
    }
   ],
   "source": [
    "directors_df"
   ]
  },
  {
   "cell_type": "code",
   "execution_count": null,
   "metadata": {},
   "outputs": [],
   "source": []
  }
 ],
 "metadata": {
  "kernelspec": {
   "display_name": "Python 3.10.5 64-bit (windows store)",
   "language": "python",
   "name": "python3"
  },
  "language_info": {
   "codemirror_mode": {
    "name": "ipython",
    "version": 3
   },
   "file_extension": ".py",
   "mimetype": "text/x-python",
   "name": "python",
   "nbconvert_exporter": "python",
   "pygments_lexer": "ipython3",
   "version": "3.10.5"
  },
  "orig_nbformat": 4,
  "vscode": {
   "interpreter": {
    "hash": "8560ba40f25f8debc3b21cfdc72602d7855270eb253b25380125fbd9b6cd3418"
   }
  }
 },
 "nbformat": 4,
 "nbformat_minor": 2
}
