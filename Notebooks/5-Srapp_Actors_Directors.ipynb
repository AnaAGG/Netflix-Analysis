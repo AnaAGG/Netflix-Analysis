{
 "cells": [
  {
   "cell_type": "code",
   "execution_count": 2,
   "metadata": {},
   "outputs": [],
   "source": [
    "import pandas as pd\n",
    "import numpy as np\n",
    "import re\n",
    "import pickle\n",
    "\n",
    "# Adding the parent directory to the path so that the `src` directory can be imported.\n",
    "import sys\n",
    "sys.path.append(\"../\")\n",
    "\n",
    "# Importing the `support` module from the `src` directory.\n",
    "import src.support as sp\n",
    "\n",
    "# Ignoring the warnings.\n",
    "import warnings\n",
    "warnings.filterwarnings('ignore')"
   ]
  },
  {
   "cell_type": "code",
   "execution_count": 2,
   "metadata": {},
   "outputs": [],
   "source": [
    "# open the top10 actors pickle file\n",
    "with open('../data/pickle/top10_actors.pickle', 'rb') as act:\n",
    "    actors = pickle.load(act)"
   ]
  },
  {
   "cell_type": "code",
   "execution_count": 3,
   "metadata": {},
   "outputs": [
    {
     "name": "stderr",
     "output_type": "stream",
     "text": [
      "\n",
      "\n",
      "====== WebDriver manager ======\n",
      "Current google-chrome version is 103.0.5060\n",
      "Get LATEST chromedriver version for 103.0.5060 google-chrome\n",
      "Trying to download new driver from https://chromedriver.storage.googleapis.com/103.0.5060.53/chromedriver_win32.zip\n",
      "Driver has been saved in cache [C:\\Users\\agarc\\.wdm\\drivers\\chromedriver\\win32\\103.0.5060.53]\n",
      "\n",
      "\n",
      "====== WebDriver manager ======\n",
      "Current google-chrome version is 103.0.5060\n",
      "Get LATEST chromedriver version for 103.0.5060 google-chrome\n",
      "Trying to download new driver from https://chromedriver.storage.googleapis.com/103.0.5060.53/chromedriver_win32.zip\n",
      "Driver has been saved in cache [C:\\Users\\agarc\\.wdm\\drivers\\chromedriver\\win32\\103.0.5060.53]\n",
      "\n",
      "\n",
      "====== WebDriver manager ======\n",
      "Current google-chrome version is 103.0.5060\n",
      "Get LATEST chromedriver version for 103.0.5060 google-chrome\n",
      "Trying to download new driver from https://chromedriver.storage.googleapis.com/103.0.5060.53/chromedriver_win32.zip\n",
      "Driver has been saved in cache [C:\\Users\\agarc\\.wdm\\drivers\\chromedriver\\win32\\103.0.5060.53]\n",
      "\n",
      "\n",
      "====== WebDriver manager ======\n",
      "Current google-chrome version is 103.0.5060\n",
      "Get LATEST chromedriver version for 103.0.5060 google-chrome\n",
      "Trying to download new driver from https://chromedriver.storage.googleapis.com/103.0.5060.53/chromedriver_win32.zip\n",
      "Driver has been saved in cache [C:\\Users\\agarc\\.wdm\\drivers\\chromedriver\\win32\\103.0.5060.53]\n",
      "\n",
      "\n",
      "====== WebDriver manager ======\n",
      "Current google-chrome version is 103.0.5060\n",
      "Get LATEST chromedriver version for 103.0.5060 google-chrome\n",
      "Trying to download new driver from https://chromedriver.storage.googleapis.com/103.0.5060.53/chromedriver_win32.zip\n",
      "Driver has been saved in cache [C:\\Users\\agarc\\.wdm\\drivers\\chromedriver\\win32\\103.0.5060.53]\n",
      "\n",
      "\n",
      "====== WebDriver manager ======\n",
      "Current google-chrome version is 103.0.5060\n",
      "Get LATEST chromedriver version for 103.0.5060 google-chrome\n",
      "Trying to download new driver from https://chromedriver.storage.googleapis.com/103.0.5060.53/chromedriver_win32.zip\n",
      "Driver has been saved in cache [C:\\Users\\agarc\\.wdm\\drivers\\chromedriver\\win32\\103.0.5060.53]\n",
      "\n",
      "\n",
      "====== WebDriver manager ======\n",
      "Current google-chrome version is 103.0.5060\n",
      "Get LATEST chromedriver version for 103.0.5060 google-chrome\n",
      "Trying to download new driver from https://chromedriver.storage.googleapis.com/103.0.5060.53/chromedriver_win32.zip\n",
      "Driver has been saved in cache [C:\\Users\\agarc\\.wdm\\drivers\\chromedriver\\win32\\103.0.5060.53]\n",
      "\n",
      "\n",
      "====== WebDriver manager ======\n",
      "Current google-chrome version is 103.0.5060\n",
      "Get LATEST chromedriver version for 103.0.5060 google-chrome\n",
      "Trying to download new driver from https://chromedriver.storage.googleapis.com/103.0.5060.53/chromedriver_win32.zip\n",
      "Driver has been saved in cache [C:\\Users\\agarc\\.wdm\\drivers\\chromedriver\\win32\\103.0.5060.53]\n",
      "\n",
      "\n",
      "====== WebDriver manager ======\n",
      "Current google-chrome version is 103.0.5060\n",
      "Get LATEST chromedriver version for 103.0.5060 google-chrome\n",
      "Trying to download new driver from https://chromedriver.storage.googleapis.com/103.0.5060.53/chromedriver_win32.zip\n",
      "Driver has been saved in cache [C:\\Users\\agarc\\.wdm\\drivers\\chromedriver\\win32\\103.0.5060.53]\n",
      "\n",
      "\n",
      "====== WebDriver manager ======\n",
      "Current google-chrome version is 103.0.5060\n",
      "Get LATEST chromedriver version for 103.0.5060 google-chrome\n",
      "Trying to download new driver from https://chromedriver.storage.googleapis.com/103.0.5060.53/chromedriver_win32.zip\n",
      "Driver has been saved in cache [C:\\Users\\agarc\\.wdm\\drivers\\chromedriver\\win32\\103.0.5060.53]\n"
     ]
    }
   ],
   "source": [
    "# scrapping personal information for each actor from IMDB\n",
    "actors_df = sp.scrap_actors(actors)"
   ]
  },
  {
   "cell_type": "code",
   "execution_count": 15,
   "metadata": {},
   "outputs": [
    {
     "data": {
      "text/html": [
       "<div>\n",
       "<style scoped>\n",
       "    .dataframe tbody tr th:only-of-type {\n",
       "        vertical-align: middle;\n",
       "    }\n",
       "\n",
       "    .dataframe tbody tr th {\n",
       "        vertical-align: top;\n",
       "    }\n",
       "\n",
       "    .dataframe thead th {\n",
       "        text-align: right;\n",
       "    }\n",
       "</style>\n",
       "<table border=\"1\" class=\"dataframe\">\n",
       "  <thead>\n",
       "    <tr style=\"text-align: right;\">\n",
       "      <th></th>\n",
       "      <th>name</th>\n",
       "      <th>image</th>\n",
       "      <th>description</th>\n",
       "      <th>positions</th>\n",
       "      <th>known_for</th>\n",
       "    </tr>\n",
       "  </thead>\n",
       "  <tbody>\n",
       "    <tr>\n",
       "      <th>0</th>\n",
       "      <td>Adam Sandler</td>\n",
       "      <td>https://m.media-amazon.com/images/M/MV5BMjQyNz...</td>\n",
       "      <td>Adam Richard Sandler was born September 9, 196...</td>\n",
       "      <td>Actor | Producer | Writer</td>\n",
       "      <td>El aguador\\nBobby Boucher</td>\n",
       "    </tr>\n",
       "    <tr>\n",
       "      <th>1</th>\n",
       "      <td>Maya Rudolph</td>\n",
       "      <td>https://m.media-amazon.com/images/M/MV5BMTMzOT...</td>\n",
       "      <td>Maya Rudolph was born on July 27, 1972 in Gain...</td>\n",
       "      <td>Actress | Producer | Writer</td>\n",
       "      <td>La boda de mi mejor amiga\\nLillian</td>\n",
       "    </tr>\n",
       "    <tr>\n",
       "      <th>2</th>\n",
       "      <td>Andrew Bachelor</td>\n",
       "      <td>https://m.media-amazon.com/images/M/MV5BOTUyMT...</td>\n",
       "      <td>Over the last few years, Andrew Bachelor, bett...</td>\n",
       "      <td>Actor | Director | Writer</td>\n",
       "      <td>La primera vez que nos vimos\\nMax</td>\n",
       "    </tr>\n",
       "    <tr>\n",
       "      <th>3</th>\n",
       "      <td>Jacki Weaver</td>\n",
       "      <td>https://m.media-amazon.com/images/M/MV5BNDYyOT...</td>\n",
       "      <td>Jacki Weaver was born on May 25, 1947 in Sydne...</td>\n",
       "      <td>Actress | Soundtrack</td>\n",
       "      <td>El lado bueno de las cosas\\nDolores Solitano</td>\n",
       "    </tr>\n",
       "    <tr>\n",
       "      <th>4</th>\n",
       "      <td>Zachary Quinto</td>\n",
       "      <td>https://m.media-amazon.com/images/M/MV5BMjQ4ND...</td>\n",
       "      <td>Zachary Quinto was born in Pittsburgh, Pennsyl...</td>\n",
       "      <td>Actor | Producer | Writer</td>\n",
       "      <td>Star Trek\\nSpock</td>\n",
       "    </tr>\n",
       "  </tbody>\n",
       "</table>\n",
       "</div>"
      ],
      "text/plain": [
       "               name                                              image  \\\n",
       "0      Adam Sandler  https://m.media-amazon.com/images/M/MV5BMjQyNz...   \n",
       "1      Maya Rudolph  https://m.media-amazon.com/images/M/MV5BMTMzOT...   \n",
       "2   Andrew Bachelor  https://m.media-amazon.com/images/M/MV5BOTUyMT...   \n",
       "3      Jacki Weaver  https://m.media-amazon.com/images/M/MV5BNDYyOT...   \n",
       "4    Zachary Quinto  https://m.media-amazon.com/images/M/MV5BMjQ4ND...   \n",
       "\n",
       "                                         description  \\\n",
       "0  Adam Richard Sandler was born September 9, 196...   \n",
       "1  Maya Rudolph was born on July 27, 1972 in Gain...   \n",
       "2  Over the last few years, Andrew Bachelor, bett...   \n",
       "3  Jacki Weaver was born on May 25, 1947 in Sydne...   \n",
       "4  Zachary Quinto was born in Pittsburgh, Pennsyl...   \n",
       "\n",
       "                     positions                                     known_for  \n",
       "0    Actor | Producer | Writer                     El aguador\\nBobby Boucher  \n",
       "1  Actress | Producer | Writer            La boda de mi mejor amiga\\nLillian  \n",
       "2    Actor | Director | Writer             La primera vez que nos vimos\\nMax  \n",
       "3         Actress | Soundtrack  El lado bueno de las cosas\\nDolores Solitano  \n",
       "4    Actor | Producer | Writer                              Star Trek\\nSpock  "
      ]
     },
     "execution_count": 15,
     "metadata": {},
     "output_type": "execute_result"
    }
   ],
   "source": [
    "actors_df.head()"
   ]
  },
  {
   "cell_type": "code",
   "execution_count": 17,
   "metadata": {},
   "outputs": [],
   "source": [
    "actors_df[\"known_for\"] = actors_df[\"known_for\"].str.split(\"\\n\")"
   ]
  },
  {
   "cell_type": "code",
   "execution_count": 19,
   "metadata": {},
   "outputs": [],
   "source": [
    "actors_df = actors_df.explode(\"known_for\")"
   ]
  },
  {
   "cell_type": "code",
   "execution_count": 10,
   "metadata": {},
   "outputs": [],
   "source": [
    "actors[\"description\"] = actors[\"description\"].str.replace(\",\", \"\")"
   ]
  },
  {
   "cell_type": "code",
   "execution_count": 21,
   "metadata": {},
   "outputs": [],
   "source": [
    "actors_df.to_csv(\"../data/top10_actors.csv\", index = False, sep = \";\")\n"
   ]
  },
  {
   "cell_type": "markdown",
   "metadata": {},
   "source": [
    "# Directors"
   ]
  },
  {
   "cell_type": "code",
   "execution_count": 3,
   "metadata": {},
   "outputs": [],
   "source": [
    "# open the top10 directors pickle file\n",
    "with open('../data/pickle/top10_directors.pickle', 'rb') as dir:\n",
    "    directors = pickle.load(dir)"
   ]
  },
  {
   "cell_type": "code",
   "execution_count": 5,
   "metadata": {},
   "outputs": [
    {
     "name": "stderr",
     "output_type": "stream",
     "text": [
      "\n",
      "\n",
      "====== WebDriver manager ======\n",
      "Current google-chrome version is 103.0.5060\n",
      "Get LATEST chromedriver version for 103.0.5060 google-chrome\n",
      "Trying to download new driver from https://chromedriver.storage.googleapis.com/103.0.5060.53/chromedriver_win32.zip\n",
      "Driver has been saved in cache [C:\\Users\\agarc\\.wdm\\drivers\\chromedriver\\win32\\103.0.5060.53]\n",
      "\n",
      "\n",
      "====== WebDriver manager ======\n",
      "Current google-chrome version is 103.0.5060\n",
      "Get LATEST chromedriver version for 103.0.5060 google-chrome\n",
      "Trying to download new driver from https://chromedriver.storage.googleapis.com/103.0.5060.53/chromedriver_win32.zip\n",
      "Driver has been saved in cache [C:\\Users\\agarc\\.wdm\\drivers\\chromedriver\\win32\\103.0.5060.53]\n",
      "\n",
      "\n",
      "====== WebDriver manager ======\n",
      "Current google-chrome version is 103.0.5060\n",
      "Get LATEST chromedriver version for 103.0.5060 google-chrome\n",
      "Trying to download new driver from https://chromedriver.storage.googleapis.com/103.0.5060.53/chromedriver_win32.zip\n",
      "Driver has been saved in cache [C:\\Users\\agarc\\.wdm\\drivers\\chromedriver\\win32\\103.0.5060.53]\n",
      "\n",
      "\n",
      "====== WebDriver manager ======\n",
      "Current google-chrome version is 103.0.5060\n",
      "Get LATEST chromedriver version for 103.0.5060 google-chrome\n",
      "Trying to download new driver from https://chromedriver.storage.googleapis.com/103.0.5060.53/chromedriver_win32.zip\n",
      "Driver has been saved in cache [C:\\Users\\agarc\\.wdm\\drivers\\chromedriver\\win32\\103.0.5060.53]\n",
      "\n",
      "\n",
      "====== WebDriver manager ======\n",
      "Current google-chrome version is 103.0.5060\n",
      "Get LATEST chromedriver version for 103.0.5060 google-chrome\n",
      "Trying to download new driver from https://chromedriver.storage.googleapis.com/103.0.5060.53/chromedriver_win32.zip\n",
      "Driver has been saved in cache [C:\\Users\\agarc\\.wdm\\drivers\\chromedriver\\win32\\103.0.5060.53]\n",
      "\n",
      "\n",
      "====== WebDriver manager ======\n",
      "Current google-chrome version is 103.0.5060\n",
      "Get LATEST chromedriver version for 103.0.5060 google-chrome\n",
      "Trying to download new driver from https://chromedriver.storage.googleapis.com/103.0.5060.53/chromedriver_win32.zip\n",
      "Driver has been saved in cache [C:\\Users\\agarc\\.wdm\\drivers\\chromedriver\\win32\\103.0.5060.53]\n",
      "\n",
      "\n",
      "====== WebDriver manager ======\n",
      "Current google-chrome version is 103.0.5060\n",
      "Get LATEST chromedriver version for 103.0.5060 google-chrome\n",
      "Trying to download new driver from https://chromedriver.storage.googleapis.com/103.0.5060.53/chromedriver_win32.zip\n",
      "Driver has been saved in cache [C:\\Users\\agarc\\.wdm\\drivers\\chromedriver\\win32\\103.0.5060.53]\n",
      "\n",
      "\n",
      "====== WebDriver manager ======\n",
      "Current google-chrome version is 103.0.5060\n",
      "Get LATEST chromedriver version for 103.0.5060 google-chrome\n",
      "Trying to download new driver from https://chromedriver.storage.googleapis.com/103.0.5060.53/chromedriver_win32.zip\n",
      "Driver has been saved in cache [C:\\Users\\agarc\\.wdm\\drivers\\chromedriver\\win32\\103.0.5060.53]\n",
      "\n",
      "\n",
      "====== WebDriver manager ======\n",
      "Current google-chrome version is 103.0.5060\n",
      "Get LATEST chromedriver version for 103.0.5060 google-chrome\n",
      "Trying to download new driver from https://chromedriver.storage.googleapis.com/103.0.5060.53/chromedriver_win32.zip\n",
      "Driver has been saved in cache [C:\\Users\\agarc\\.wdm\\drivers\\chromedriver\\win32\\103.0.5060.53]\n",
      "\n",
      "\n",
      "====== WebDriver manager ======\n",
      "Current google-chrome version is 103.0.5060\n",
      "Get LATEST chromedriver version for 103.0.5060 google-chrome\n",
      "Trying to download new driver from https://chromedriver.storage.googleapis.com/103.0.5060.53/chromedriver_win32.zip\n",
      "Driver has been saved in cache [C:\\Users\\agarc\\.wdm\\drivers\\chromedriver\\win32\\103.0.5060.53]\n"
     ]
    }
   ],
   "source": [
    "# scrapping personal information for each actor from IMDB\n",
    "directors_df  = sp.scrap_directors(directors)"
   ]
  },
  {
   "cell_type": "code",
   "execution_count": 12,
   "metadata": {},
   "outputs": [],
   "source": [
    "directors_df[\"description\"] = directors_df[\"description\"].str.replace(\",\", \"\").replace(\";\", \"\")"
   ]
  },
  {
   "cell_type": "code",
   "execution_count": 14,
   "metadata": {},
   "outputs": [
    {
     "data": {
      "text/plain": [
       "\"Amy Meredith Poehler was born in Newton Massachusetts to high school teachers Eileen Frances (Milmore) and William Grinstead Poehler. Her brother is comedian Greg Poehler. She is of Irish (from her mother) and English Irish German and Portuguese (from her father) descent. Amy was first involved with sketch comedy when she joined the group My Mother's Flea Bag when she was attending Boston College. In 1993 she went to Chicago where she studied at Second City and Improv Olympics. There she met Del Close who later became the voice of the UCB opening scene. In 1996 she joined the Upright Citizen's Brigade with Matt Besser Ian Roberts and Matt Walsh. Later on the group moved to New York and became a Comedy Central show. The show went on only for three seasons. However the group stayed together at the Upright Citizen's Brigade Theater. Today the theater is one of the leading centers for improv and sketch shows.\\n\\nAfter the Upright Citizens Brigade (1998) sketch show came and went Amy joined the cast of Saturday Night Live (1975) in 2001. By the end of Christmas break of that year she became a regularly featured performer. She has brought a slew of great performances on every show such as impersonations of celebrities such as Kelly Ripa or Sharon Osbourne. When Jimmy Fallon left at the end of the 2003-04 season Amy joined Tina Fey as a co-anchor for Weekend Update. Her Hollywood star is also growing bright as she has done several feature films including Patinazo a la gloria (2007) with her then-real-life husband and Arrested Development (2003) star Will Arnett; and the Farrelly brothers-directed remake of The Heartbreak Kid (1993) in which she stars alongside another Arrested Development (2003) star Jason Bateman.\\n\\nAmong her 2010s film starring roles are Hermanísimas (2015) with Tina Fey and Casa Casino (2017) with Will Ferrell. Having played one of her first roles in the indie Wet Hot American Summer (2001) she reprised her role in the television mini-series Wet Hot American Summer: First Day of Camp (2015) and Wet Hot American Summer: 10 años después (2017).\\n\\nAmy was married to Canadian actor and comedian Will Arnett from 2003 to 2016. The couple have two children.\""
      ]
     },
     "execution_count": 14,
     "metadata": {},
     "output_type": "execute_result"
    }
   ],
   "source": [
    "directors_df[\"description\"][2]"
   ]
  },
  {
   "cell_type": "code",
   "execution_count": 15,
   "metadata": {},
   "outputs": [],
   "source": [
    "directors_df.to_csv(\"../data/top10_directors.csv\", index=False, sep= \";\")\n"
   ]
  },
  {
   "cell_type": "code",
   "execution_count": null,
   "metadata": {},
   "outputs": [],
   "source": []
  }
 ],
 "metadata": {
  "kernelspec": {
   "display_name": "Python 3.10.5 64-bit (windows store)",
   "language": "python",
   "name": "python3"
  },
  "language_info": {
   "codemirror_mode": {
    "name": "ipython",
    "version": 3
   },
   "file_extension": ".py",
   "mimetype": "text/x-python",
   "name": "python",
   "nbconvert_exporter": "python",
   "pygments_lexer": "ipython3",
   "version": "3.10.5"
  },
  "orig_nbformat": 4,
  "vscode": {
   "interpreter": {
    "hash": "8560ba40f25f8debc3b21cfdc72602d7855270eb253b25380125fbd9b6cd3418"
   }
  }
 },
 "nbformat": 4,
 "nbformat_minor": 2
}
